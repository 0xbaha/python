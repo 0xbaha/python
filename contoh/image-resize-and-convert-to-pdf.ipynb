{
 "cells": [
  {
   "cell_type": "markdown",
   "id": "1a0394f2",
   "metadata": {},
   "source": [
    "## Preparation\n",
    "1. Create folder `img_files` in the same directory with this Notebook.\n",
    "1. Put the images in that folder. "
   ]
  },
  {
   "cell_type": "code",
   "execution_count": 1,
   "id": "aba097d1",
   "metadata": {},
   "outputs": [],
   "source": [
    "from PIL import Image \n",
    "import os \n",
    "import PIL \n",
    "import glob\n",
    "import img2pdf\n",
    "from PyPDF2 import PdfFileMerger"
   ]
  },
  {
   "cell_type": "code",
   "execution_count": 2,
   "id": "817411d1",
   "metadata": {},
   "outputs": [],
   "source": [
    "# Creating a Directory in Python if It Doesn't Exist\n",
    "if not os.path.exists('output'):\n",
    "    os.mkdir('output')\n",
    "\n",
    "if not os.path.exists('output/pdf_files'):\n",
    "    os.mkdir('output/pdf_files')\n",
    "    \n",
    "if not os.path.exists('output/img_resized_files'):\n",
    "    os.mkdir('output/img_resized_files')\n",
    "    \n",
    "if not os.path.exists('output/pdf_merged_files'):\n",
    "    os.mkdir('output/pdf_merged_files')"
   ]
  },
  {
   "cell_type": "code",
   "execution_count": 3,
   "id": "9132d453",
   "metadata": {},
   "outputs": [],
   "source": [
    "dir_img = r'img_files'\n",
    "dir_img_resized = r'output/img_resized_files'\n",
    "dir_pdf = r'output/pdf_files'\n",
    "dir_pdf_merged = r'output/pdf_merged_files'"
   ]
  },
  {
   "cell_type": "code",
   "execution_count": 4,
   "id": "818c0a34",
   "metadata": {
    "scrolled": true
   },
   "outputs": [
    {
     "data": {
      "text/plain": [
       "['IMG_20220916_134333.jpg',\n",
       " 'IMG_20220916_131623.jpg',\n",
       " 'IMG_20220916_111111.jpg',\n",
       " 'IMG_20220916_111147.jpg',\n",
       " 'IMG_20220916_111125.jpg',\n",
       " 'IMG_20220916_103615.jpg',\n",
       " 'IMG_20220916_104748.jpg',\n",
       " 'IMG_20220916_112017.jpg',\n",
       " 'IMG_20220916_133046.jpg',\n",
       " 'IMG_20220916_133152.jpg',\n",
       " 'IMG_20220916_105623.jpg',\n",
       " 'IMG_20220916_134733.jpg',\n",
       " 'IMG_20220916_123622.jpg',\n",
       " 'IMG_20220916_112225.jpg',\n",
       " 'IMG_20220916_131215.jpg',\n",
       " 'IMG_20220916_131152.jpg',\n",
       " 'IMG_20220916_111103.jpg',\n",
       " 'IMG_20220916_105546.jpg',\n",
       " 'IMG_20220916_112049.jpg',\n",
       " 'IMG_20220916_122947.jpg',\n",
       " 'IMG_20220916_123934.jpg']"
      ]
     },
     "execution_count": 4,
     "metadata": {},
     "output_type": "execute_result"
    }
   ],
   "source": [
    "img_list = os.listdir(dir_img)\n",
    "img_list"
   ]
  },
  {
   "cell_type": "code",
   "execution_count": 5,
   "id": "3447f550",
   "metadata": {},
   "outputs": [
    {
     "data": {
      "text/plain": [
       "'IMG_20220916_134333'"
      ]
     },
     "execution_count": 5,
     "metadata": {},
     "output_type": "execute_result"
    }
   ],
   "source": [
    "# only file name (without extension)\n",
    "img_name_only = img_list[0].split(\".\")[0]\n",
    "img_name_only"
   ]
  },
  {
   "cell_type": "code",
   "execution_count": 6,
   "id": "bd98601e",
   "metadata": {},
   "outputs": [
    {
     "data": {
      "text/plain": [
       "(4000, 3000)"
      ]
     },
     "execution_count": 6,
     "metadata": {},
     "output_type": "execute_result"
    }
   ],
   "source": [
    "# check image size\n",
    "img_test = Image.open(dir_img + \"/\" + img_name_only + '.jpg')\n",
    "img_test.size"
   ]
  },
  {
   "cell_type": "code",
   "execution_count": 7,
   "id": "03e1639a",
   "metadata": {},
   "outputs": [],
   "source": [
    "# resize 50%\n",
    "\n",
    "for full_filename in img_list:\n",
    "    \n",
    "    # open image\n",
    "    filename = full_filename.split(\".\")[0]\n",
    "    file_image = dir_img + \"/\" + filename + \".jpg\"\n",
    "    img = Image.open(file_image)\n",
    "    \n",
    "    # new width and height\n",
    "    (new_width, new_height) = (img.width // 3, img.height // 3)\n",
    "    \n",
    "    # resizing the image\n",
    "    img = img.resize((new_width, new_height))\n",
    "    \n",
    "    # save new resized image\n",
    "    file_image_resized = dir_img_resized + \"/\" + \"resized_\" + filename + \".jpg\"\n",
    "    img.save(file_image_resized)\n",
    "    \n",
    "    # converting into chunks\n",
    "    img = Image.open(file_image_resized)\n",
    "    pdf_bytes = img2pdf.convert(img.filename)\n",
    "    \n",
    "    # opening or creating pdf file\n",
    "    file = open(dir_pdf + \"/\" + \"resized_\" + filename + \".pdf\", \"wb\")\n",
    "    \n",
    "    # writing pdf files with chunks\n",
    "    file.write(pdf_bytes)\n",
    "    \n",
    "    # closing image file\n",
    "    img.close()\n",
    "    \n",
    "    # closing pdf file\n",
    "    file.close()"
   ]
  },
  {
   "cell_type": "code",
   "execution_count": 8,
   "id": "310175a5",
   "metadata": {
    "scrolled": true
   },
   "outputs": [
    {
     "data": {
      "text/plain": [
       "['resized_IMG_20220916_103615.pdf',\n",
       " 'resized_IMG_20220916_104748.pdf',\n",
       " 'resized_IMG_20220916_105546.pdf',\n",
       " 'resized_IMG_20220916_105623.pdf',\n",
       " 'resized_IMG_20220916_111103.pdf',\n",
       " 'resized_IMG_20220916_111111.pdf',\n",
       " 'resized_IMG_20220916_111125.pdf',\n",
       " 'resized_IMG_20220916_111147.pdf',\n",
       " 'resized_IMG_20220916_112017.pdf',\n",
       " 'resized_IMG_20220916_112049.pdf',\n",
       " 'resized_IMG_20220916_112225.pdf',\n",
       " 'resized_IMG_20220916_122947.pdf',\n",
       " 'resized_IMG_20220916_123622.pdf',\n",
       " 'resized_IMG_20220916_123934.pdf',\n",
       " 'resized_IMG_20220916_131152.pdf',\n",
       " 'resized_IMG_20220916_131215.pdf',\n",
       " 'resized_IMG_20220916_131623.pdf',\n",
       " 'resized_IMG_20220916_133046.pdf',\n",
       " 'resized_IMG_20220916_133152.pdf',\n",
       " 'resized_IMG_20220916_134333.pdf',\n",
       " 'resized_IMG_20220916_134733.pdf']"
      ]
     },
     "execution_count": 8,
     "metadata": {},
     "output_type": "execute_result"
    }
   ],
   "source": [
    "pdf_list = sorted(os.listdir(dir_pdf))\n",
    "pdf_list"
   ]
  },
  {
   "cell_type": "code",
   "execution_count": 9,
   "id": "a1fdc58d",
   "metadata": {
    "scrolled": true
   },
   "outputs": [
    {
     "name": "stdout",
     "output_type": "stream",
     "text": [
      "output/pdf_files/resized_IMG_20220916_103615.pdf\n",
      "output/pdf_files/resized_IMG_20220916_104748.pdf\n",
      "output/pdf_files/resized_IMG_20220916_105546.pdf\n",
      "output/pdf_files/resized_IMG_20220916_105623.pdf\n",
      "output/pdf_files/resized_IMG_20220916_111103.pdf\n",
      "output/pdf_files/resized_IMG_20220916_111111.pdf\n",
      "output/pdf_files/resized_IMG_20220916_111125.pdf\n",
      "output/pdf_files/resized_IMG_20220916_111147.pdf\n",
      "output/pdf_files/resized_IMG_20220916_112017.pdf\n",
      "output/pdf_files/resized_IMG_20220916_112049.pdf\n",
      "output/pdf_files/resized_IMG_20220916_112225.pdf\n",
      "output/pdf_files/resized_IMG_20220916_122947.pdf\n",
      "output/pdf_files/resized_IMG_20220916_123622.pdf\n",
      "output/pdf_files/resized_IMG_20220916_123934.pdf\n",
      "output/pdf_files/resized_IMG_20220916_131152.pdf\n",
      "output/pdf_files/resized_IMG_20220916_131215.pdf\n",
      "output/pdf_files/resized_IMG_20220916_131623.pdf\n",
      "output/pdf_files/resized_IMG_20220916_133046.pdf\n",
      "output/pdf_files/resized_IMG_20220916_133152.pdf\n",
      "output/pdf_files/resized_IMG_20220916_134333.pdf\n",
      "output/pdf_files/resized_IMG_20220916_134733.pdf\n"
     ]
    }
   ],
   "source": [
    "# merge pdf\n",
    "merger = PdfFileMerger(strict = False)\n",
    "\n",
    "# iterate over the list of the file paths\n",
    "for full_filename in pdf_list:\n",
    "    \n",
    "    # open pdf\n",
    "    filename = full_filename.split(\".\")[0]\n",
    "    file_pdf = dir_pdf + \"/\" + filename + \".pdf\"\n",
    "    print(file_pdf)\n",
    "    pdf = open(file_pdf, 'rb')\n",
    "    \n",
    "    # append PDF files\n",
    "    merger.append(pdf)\n",
    "    \n",
    "# write out the merged PDF file  \n",
    "file_pdf_merged = dir_pdf_merged + \"/\" + \"merged_files\" + \".pdf\"\n",
    "merger.write(file_pdf_merged)\n",
    "merger.close()"
   ]
  }
 ],
 "metadata": {
  "kernelspec": {
   "display_name": "Python 3 (ipykernel)",
   "language": "python",
   "name": "python3"
  },
  "language_info": {
   "codemirror_mode": {
    "name": "ipython",
    "version": 3
   },
   "file_extension": ".py",
   "mimetype": "text/x-python",
   "name": "python",
   "nbconvert_exporter": "python",
   "pygments_lexer": "ipython3",
   "version": "3.10.4"
  }
 },
 "nbformat": 4,
 "nbformat_minor": 5
}
